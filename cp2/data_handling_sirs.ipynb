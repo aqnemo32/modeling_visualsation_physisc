{
 "cells": [
  {
   "cell_type": "code",
   "execution_count": 30,
   "metadata": {},
   "outputs": [],
   "source": [
    "import numpy as np\n",
    "import matplotlib.pyplot as plt\n",
    "import os\n",
    "from matplotlib import rcParams\n",
    "import pandas as pd\n",
    "\n",
    "plt.style.use('ggplot')\n",
    "rcParams['font.family'] = 'serif'\n",
    "rcParams['savefig.bbox'] = 'tight'\n",
    "rcParams['savefig.dpi'] = 250\n",
    "rcParams['lines.linewidth'] = 0.5\n",
    "rcParams['lines.markersize'] = 1.5\n",
    "rcParams['errorbar.capsize'] = 1.5\n",
    "rcParams['figure.constrained_layout.use'] = True\n",
    "rcParams['figure.figsize'] = [1.61803398875 * 6, 6]"
   ]
  },
  {
   "cell_type": "code",
   "execution_count": 44,
   "metadata": {},
   "outputs": [],
   "source": [
    "files = os.listdir('/Users/achillequarante/Desktop/output_sirs/')\n",
    "prob_i_df = pd.DataFrame(index=range(len(files)), columns = ['p1', 'p3', 'avg_i'])\n",
    "for i, file in enumerate(files):\n",
    "    prob_i_df.iloc[i]['avg_i'] = np.average(np.load(f\"/Users/achillequarante/Desktop/output_sirs/{file}\"))/2500\n",
    "    prob_i_df.iloc[i]['p1'] = float(file.split('_')[1])\n",
    "    prob_i_df.iloc[i]['p3'] = float(file.split('_')[2])\n",
    "prob_i_df = prob_i_df.sort_values(by=['p1'])\n"
   ]
  },
  {
   "cell_type": "code",
   "execution_count": 41,
   "metadata": {},
   "outputs": [
    {
     "name": "stdout",
     "output_type": "stream",
     "text": [
      "        p1    p3     avg_i\n",
      "3312   0.0   0.0  0.216113\n",
      "2112   0.0   0.0  0.203794\n",
      "3909   0.0   0.0  0.219887\n",
      "3897   0.0   0.0  0.213606\n",
      "5352   0.0   0.0  0.207306\n",
      "...    ...   ...       ...\n",
      "9722  0.99  0.99  0.139852\n",
      "3176  0.99  0.99  0.143131\n",
      "8999  0.99  0.99  0.137814\n",
      "8201  0.99  0.99  0.150352\n",
      "8455  0.99  0.99    0.1425\n",
      "\n",
      "[10000 rows x 3 columns]\n"
     ]
    }
   ],
   "source": [
    "print(prob_i_df)"
   ]
  },
  {
   "cell_type": "code",
   "execution_count": 17,
   "metadata": {},
   "outputs": [
    {
     "name": "stdout",
     "output_type": "stream",
     "text": [
      "(100,)\n"
     ]
    }
   ],
   "source": [
    "p1 = np.linspace(0,0.99, 100)\n",
    "print(p1.shape)\n",
    "p3 = np.linspace(0,0.99, 100)\n",
    "\n",
    "plt.hist2d\n"
   ]
  }
 ],
 "metadata": {
  "kernelspec": {
   "display_name": "physics",
   "language": "python",
   "name": "python3"
  },
  "language_info": {
   "codemirror_mode": {
    "name": "ipython",
    "version": 3
   },
   "file_extension": ".py",
   "mimetype": "text/x-python",
   "name": "python",
   "nbconvert_exporter": "python",
   "pygments_lexer": "ipython3",
   "version": "3.10.5"
  },
  "orig_nbformat": 4,
  "vscode": {
   "interpreter": {
    "hash": "f2374a848a3ce9caa9f1ff26bd7d9aa548e450af4dad8cf9c6c0e126e60712f2"
   }
  }
 },
 "nbformat": 4,
 "nbformat_minor": 2
}
