{
 "cells": [
  {
   "cell_type": "code",
   "execution_count": 1,
   "metadata": {},
   "outputs": [],
   "source": [
    "import numpy as np\n",
    "import matplotlib.pyplot as plt\n",
    "import os\n",
    "from matplotlib import rcParams\n",
    "import pandas as pd\n",
    "\n",
    "plt.style.use('ggplot')\n",
    "rcParams['font.family'] = 'serif'\n",
    "rcParams['savefig.bbox'] = 'tight'\n",
    "rcParams['savefig.dpi'] = 250\n",
    "rcParams['lines.linewidth'] = 0.5\n",
    "rcParams['lines.markersize'] = 1.5\n",
    "rcParams['errorbar.capsize'] = 1.5\n",
    "rcParams['figure.constrained_layout.use'] = True\n",
    "rcParams['figure.figsize'] = [1.61803398875 * 6, 6]"
   ]
  },
  {
   "cell_type": "code",
   "execution_count": 2,
   "metadata": {},
   "outputs": [],
   "source": [
    "def variance(array):\n",
    "    '''\n",
    "    Input:\n",
    "        Array of measured quantity over time (ie avereage number of infected for SIRS)\n",
    "    Return:\n",
    "        The variance of that array\n",
    "    '''\n",
    "    return np.average(np.square(array)) - np.square(np.average(array))\n",
    "\n",
    "def average(array):\n",
    "    return np.average(array)\n",
    "def bootstrap(array, function, y):\n",
    "    '''\n",
    "    Bootstrap error method calculation\n",
    "    for a function y = f(x)\n",
    "    Input:\n",
    "        array = Array corresponding to x (ie the average number of Infected sites throughout the simulation)\n",
    "        function = Funtion corresponding to f(x)\n",
    "        y = calculated values from the data (ie the Variance in Infected sites for SIRS)\n",
    "    Return:\n",
    "        An array of the errors of in the input array (ie input = varriance in Infected, return is the error in the variance)\n",
    "    '''\n",
    "    c_i = np.zeros(array.shape[0])\n",
    "\n",
    "    for k in range(array.shape[0]):\n",
    "        array_removed = np.delete(array, k)\n",
    "\n",
    "\n",
    "        c_i[k] = function(array_removed)\n",
    "\n",
    "    return np.sqrt(np.sum((c_i - function(array))**2, axis = 0))"
   ]
  },
  {
   "cell_type": "code",
   "execution_count": 12,
   "metadata": {},
   "outputs": [],
   "source": [
    "files = os.listdir('/Users/achillequarante/Desktop/output-sirs/')\n",
    "prob_i_df = pd.DataFrame(index=range(len(files)), columns = ['p1', 'p3', 'avg_i', 'var_i'])\n",
    "for i, file in enumerate(files):\n",
    "    array = np.load(f\"/Users/achillequarante/Desktop/output-sirs/{file}\")/2500\n",
    "    prob_i_df.iloc[i]['avg_i'] = np.average(array)\n",
    "    prob_i_df.iloc[i]['p1'] = float(file.split('.npy')[0].split('-')[-2])\n",
    "    prob_i_df.iloc[i]['p3'] = float(file.split('.npy')[0].split('-')[-1])\n",
    "    prob_i_df.iloc[i]['var_i'] = (np.average(np.square(array)) - np.square(np.average(array)))/2500"
   ]
  },
  {
   "cell_type": "code",
   "execution_count": 13,
   "metadata": {},
   "outputs": [],
   "source": [
    "prob_i_df = prob_i_df.sort_values(by=['p1', 'p3'])"
   ]
  },
  {
   "cell_type": "code",
   "execution_count": 23,
   "metadata": {},
   "outputs": [
    {
     "data": {
      "text/plain": [
       "(51,)"
      ]
     },
     "execution_count": 23,
     "metadata": {},
     "output_type": "execute_result"
    }
   ],
   "source": [
    "prob_i_df['p3'].unique().shape"
   ]
  },
  {
   "cell_type": "code",
   "execution_count": 24,
   "metadata": {},
   "outputs": [
    {
     "name": "stdout",
     "output_type": "stream",
     "text": [
      "[0.   0.02 0.04 0.06 0.08 0.1  0.12 0.14 0.16 0.18 0.2  0.22 0.24 0.26\n",
      " 0.28 0.3  0.32 0.34 0.36 0.38 0.4  0.42 0.44 0.46 0.48 0.5  0.52 0.54\n",
      " 0.56 0.58 0.6  0.62 0.64 0.66 0.68 0.7  0.72 0.74 0.76 0.78 0.8  0.82\n",
      " 0.84 0.86 0.88 0.9  0.92 0.94 0.96 0.98 1.  ]\n"
     ]
    },
    {
     "ename": "ValueError",
     "evalue": "cannot reshape array of size 2550 into shape (51,51)",
     "output_type": "error",
     "traceback": [
      "\u001b[0;31m---------------------------------------------------------------------------\u001b[0m",
      "\u001b[0;31mValueError\u001b[0m                                Traceback (most recent call last)",
      "Cell \u001b[0;32mIn[24], line 4\u001b[0m\n\u001b[1;32m      2\u001b[0m p3 \u001b[39m=\u001b[39m np\u001b[39m.\u001b[39mlinspace(\u001b[39m0\u001b[39m,\u001b[39m1.0\u001b[39m,\u001b[39m51\u001b[39m)\n\u001b[1;32m      3\u001b[0m \u001b[39mprint\u001b[39m(p3)\n\u001b[0;32m----> 4\u001b[0m avg_i \u001b[39m=\u001b[39m np\u001b[39m.\u001b[39;49mreshape(np\u001b[39m.\u001b[39;49marray(prob_i_df[\u001b[39m'\u001b[39;49m\u001b[39mavg_i\u001b[39;49m\u001b[39m'\u001b[39;49m]), (\u001b[39m51\u001b[39;49m,\u001b[39m51\u001b[39;49m))\n\u001b[1;32m      7\u001b[0m plt\u001b[39m.\u001b[39mcontour(p1, p3, avg_i, \u001b[39m25\u001b[39m)\n\u001b[1;32m      8\u001b[0m plt\u001b[39m.\u001b[39mshow()\n",
      "File \u001b[0;32m<__array_function__ internals>:180\u001b[0m, in \u001b[0;36mreshape\u001b[0;34m(*args, **kwargs)\u001b[0m\n",
      "File \u001b[0;32m/opt/miniconda3/envs/physics/lib/python3.10/site-packages/numpy/core/fromnumeric.py:298\u001b[0m, in \u001b[0;36mreshape\u001b[0;34m(a, newshape, order)\u001b[0m\n\u001b[1;32m    198\u001b[0m \u001b[39m@array_function_dispatch\u001b[39m(_reshape_dispatcher)\n\u001b[1;32m    199\u001b[0m \u001b[39mdef\u001b[39;00m \u001b[39mreshape\u001b[39m(a, newshape, order\u001b[39m=\u001b[39m\u001b[39m'\u001b[39m\u001b[39mC\u001b[39m\u001b[39m'\u001b[39m):\n\u001b[1;32m    200\u001b[0m \u001b[39m    \u001b[39m\u001b[39m\"\"\"\u001b[39;00m\n\u001b[1;32m    201\u001b[0m \u001b[39m    Gives a new shape to an array without changing its data.\u001b[39;00m\n\u001b[1;32m    202\u001b[0m \n\u001b[0;32m   (...)\u001b[0m\n\u001b[1;32m    296\u001b[0m \u001b[39m           [5, 6]])\u001b[39;00m\n\u001b[1;32m    297\u001b[0m \u001b[39m    \"\"\"\u001b[39;00m\n\u001b[0;32m--> 298\u001b[0m     \u001b[39mreturn\u001b[39;00m _wrapfunc(a, \u001b[39m'\u001b[39;49m\u001b[39mreshape\u001b[39;49m\u001b[39m'\u001b[39;49m, newshape, order\u001b[39m=\u001b[39;49morder)\n",
      "File \u001b[0;32m/opt/miniconda3/envs/physics/lib/python3.10/site-packages/numpy/core/fromnumeric.py:57\u001b[0m, in \u001b[0;36m_wrapfunc\u001b[0;34m(obj, method, *args, **kwds)\u001b[0m\n\u001b[1;32m     54\u001b[0m     \u001b[39mreturn\u001b[39;00m _wrapit(obj, method, \u001b[39m*\u001b[39margs, \u001b[39m*\u001b[39m\u001b[39m*\u001b[39mkwds)\n\u001b[1;32m     56\u001b[0m \u001b[39mtry\u001b[39;00m:\n\u001b[0;32m---> 57\u001b[0m     \u001b[39mreturn\u001b[39;00m bound(\u001b[39m*\u001b[39;49margs, \u001b[39m*\u001b[39;49m\u001b[39m*\u001b[39;49mkwds)\n\u001b[1;32m     58\u001b[0m \u001b[39mexcept\u001b[39;00m \u001b[39mTypeError\u001b[39;00m:\n\u001b[1;32m     59\u001b[0m     \u001b[39m# A TypeError occurs if the object does have such a method in its\u001b[39;00m\n\u001b[1;32m     60\u001b[0m     \u001b[39m# class, but its signature is not identical to that of NumPy's. This\u001b[39;00m\n\u001b[0;32m   (...)\u001b[0m\n\u001b[1;32m     64\u001b[0m     \u001b[39m# Call _wrapit from within the except clause to ensure a potential\u001b[39;00m\n\u001b[1;32m     65\u001b[0m     \u001b[39m# exception has a traceback chain.\u001b[39;00m\n\u001b[1;32m     66\u001b[0m     \u001b[39mreturn\u001b[39;00m _wrapit(obj, method, \u001b[39m*\u001b[39margs, \u001b[39m*\u001b[39m\u001b[39m*\u001b[39mkwds)\n",
      "\u001b[0;31mValueError\u001b[0m: cannot reshape array of size 2550 into shape (51,51)"
     ]
    }
   ],
   "source": [
    "p1 = np.linspace(0,1.0,51)\n",
    "p3 = np.linspace(0,1.0,51)\n",
    "print(p3)\n",
    "avg_i = np.reshape(np.array(prob_i_df['avg_i']), (51,51))\n",
    "\n",
    "\n",
    "plt.contour(p1, p3, avg_i, 25)\n",
    "plt.show()\n"
   ]
  },
  {
   "attachments": {},
   "cell_type": "markdown",
   "metadata": {},
   "source": [
    "# Long Run SIRS"
   ]
  },
  {
   "cell_type": "code",
   "execution_count": 57,
   "metadata": {},
   "outputs": [
    {
     "name": "stdout",
     "output_type": "stream",
     "text": [
      "['infected-0.375.npy', 'infected-long-0.425.npy', 'infected-0.365.npy', 'infected-long-0.335.npy', 'infected-long-0.29.npy', 'infected-long-0.485.npy', 'infected-long-0.245.npy', 'infected-long-0.455.npy', 'infected-long-0.23.npy', 'infected-long-0.35.npy', 'infected-long-0.2.npy', 'infected-long-0.275.npy', 'infected-long-0.305.npy', 'infected-long-0.5.npy', 'infected-long-0.26.npy', 'infected-long-0.32.npy', 'infected-long-0.41.npy', 'infected-long-0.215.npy', 'infected-long-0.47.npy', 'infected-long-0.44.npy']\n"
     ]
    }
   ],
   "source": [
    "files_long = os.listdir('output-sirs-long/')\n",
    "print(files_long)\n",
    "\n",
    "long_df = pd.DataFrame(index = range(len(files_long)), columns = ['p1', 'var_i', 'del_avg_i'])\n",
    "for i, file in enumerate(files_long):\n",
    "    array =np.load(f\"output-sirs-long/{file}\")/2500\n",
    "    y = variance(array)\n",
    "    long_df.iloc[i]['var_i'] = y\n",
    "    long_df.iloc[i]['p1'] = float(file.split('.npy')[0].split('-')[-1])\n",
    "    long_df.iloc[i]['del_avg_i'] = bootstrap(array, variance, y)\n",
    "\n",
    "long_df = long_df.sort_values('p1')"
   ]
  },
  {
   "cell_type": "code",
   "execution_count": 58,
   "metadata": {},
   "outputs": [
    {
     "data": {
      "text/html": [
       "<div>\n",
       "<style scoped>\n",
       "    .dataframe tbody tr th:only-of-type {\n",
       "        vertical-align: middle;\n",
       "    }\n",
       "\n",
       "    .dataframe tbody tr th {\n",
       "        vertical-align: top;\n",
       "    }\n",
       "\n",
       "    .dataframe thead th {\n",
       "        text-align: right;\n",
       "    }\n",
       "</style>\n",
       "<table border=\"1\" class=\"dataframe\">\n",
       "  <thead>\n",
       "    <tr style=\"text-align: right;\">\n",
       "      <th></th>\n",
       "      <th>p1</th>\n",
       "      <th>var_i</th>\n",
       "      <th>del_avg_i</th>\n",
       "    </tr>\n",
       "  </thead>\n",
       "  <tbody>\n",
       "    <tr>\n",
       "      <th>10</th>\n",
       "      <td>0.2</td>\n",
       "      <td>0.0</td>\n",
       "      <td>0.0</td>\n",
       "    </tr>\n",
       "    <tr>\n",
       "      <th>17</th>\n",
       "      <td>0.215</td>\n",
       "      <td>0.0</td>\n",
       "      <td>0.0</td>\n",
       "    </tr>\n",
       "    <tr>\n",
       "      <th>8</th>\n",
       "      <td>0.23</td>\n",
       "      <td>0.0</td>\n",
       "      <td>0.0</td>\n",
       "    </tr>\n",
       "    <tr>\n",
       "      <th>6</th>\n",
       "      <td>0.245</td>\n",
       "      <td>0.0</td>\n",
       "      <td>0.0</td>\n",
       "    </tr>\n",
       "    <tr>\n",
       "      <th>14</th>\n",
       "      <td>0.26</td>\n",
       "      <td>0.0</td>\n",
       "      <td>0.0</td>\n",
       "    </tr>\n",
       "    <tr>\n",
       "      <th>11</th>\n",
       "      <td>0.275</td>\n",
       "      <td>0.0</td>\n",
       "      <td>0.0</td>\n",
       "    </tr>\n",
       "    <tr>\n",
       "      <th>4</th>\n",
       "      <td>0.29</td>\n",
       "      <td>0.0</td>\n",
       "      <td>0.0</td>\n",
       "    </tr>\n",
       "    <tr>\n",
       "      <th>12</th>\n",
       "      <td>0.305</td>\n",
       "      <td>0.000008</td>\n",
       "      <td>0.000001</td>\n",
       "    </tr>\n",
       "    <tr>\n",
       "      <th>15</th>\n",
       "      <td>0.32</td>\n",
       "      <td>0.001387</td>\n",
       "      <td>0.000012</td>\n",
       "    </tr>\n",
       "    <tr>\n",
       "      <th>3</th>\n",
       "      <td>0.335</td>\n",
       "      <td>0.000282</td>\n",
       "      <td>0.000004</td>\n",
       "    </tr>\n",
       "    <tr>\n",
       "      <th>9</th>\n",
       "      <td>0.35</td>\n",
       "      <td>0.000242</td>\n",
       "      <td>0.000003</td>\n",
       "    </tr>\n",
       "    <tr>\n",
       "      <th>2</th>\n",
       "      <td>0.365</td>\n",
       "      <td>0.000214</td>\n",
       "      <td>0.00001</td>\n",
       "    </tr>\n",
       "    <tr>\n",
       "      <th>0</th>\n",
       "      <td>0.375</td>\n",
       "      <td>0.000221</td>\n",
       "      <td>0.00001</td>\n",
       "    </tr>\n",
       "    <tr>\n",
       "      <th>16</th>\n",
       "      <td>0.41</td>\n",
       "      <td>0.0002</td>\n",
       "      <td>0.000003</td>\n",
       "    </tr>\n",
       "    <tr>\n",
       "      <th>1</th>\n",
       "      <td>0.425</td>\n",
       "      <td>0.000191</td>\n",
       "      <td>0.000003</td>\n",
       "    </tr>\n",
       "    <tr>\n",
       "      <th>19</th>\n",
       "      <td>0.44</td>\n",
       "      <td>0.000191</td>\n",
       "      <td>0.000003</td>\n",
       "    </tr>\n",
       "    <tr>\n",
       "      <th>7</th>\n",
       "      <td>0.455</td>\n",
       "      <td>0.00018</td>\n",
       "      <td>0.000003</td>\n",
       "    </tr>\n",
       "    <tr>\n",
       "      <th>18</th>\n",
       "      <td>0.47</td>\n",
       "      <td>0.000176</td>\n",
       "      <td>0.000003</td>\n",
       "    </tr>\n",
       "    <tr>\n",
       "      <th>5</th>\n",
       "      <td>0.485</td>\n",
       "      <td>0.000173</td>\n",
       "      <td>0.000002</td>\n",
       "    </tr>\n",
       "    <tr>\n",
       "      <th>13</th>\n",
       "      <td>0.5</td>\n",
       "      <td>0.000171</td>\n",
       "      <td>0.000002</td>\n",
       "    </tr>\n",
       "  </tbody>\n",
       "</table>\n",
       "</div>"
      ],
      "text/plain": [
       "       p1     var_i del_avg_i\n",
       "10    0.2       0.0       0.0\n",
       "17  0.215       0.0       0.0\n",
       "8    0.23       0.0       0.0\n",
       "6   0.245       0.0       0.0\n",
       "14   0.26       0.0       0.0\n",
       "11  0.275       0.0       0.0\n",
       "4    0.29       0.0       0.0\n",
       "12  0.305  0.000008  0.000001\n",
       "15   0.32  0.001387  0.000012\n",
       "3   0.335  0.000282  0.000004\n",
       "9    0.35  0.000242  0.000003\n",
       "2   0.365  0.000214   0.00001\n",
       "0   0.375  0.000221   0.00001\n",
       "16   0.41    0.0002  0.000003\n",
       "1   0.425  0.000191  0.000003\n",
       "19   0.44  0.000191  0.000003\n",
       "7   0.455   0.00018  0.000003\n",
       "18   0.47  0.000176  0.000003\n",
       "5   0.485  0.000173  0.000002\n",
       "13    0.5  0.000171  0.000002"
      ]
     },
     "execution_count": 58,
     "metadata": {},
     "output_type": "execute_result"
    }
   ],
   "source": [
    "long_df"
   ]
  },
  {
   "cell_type": "code",
   "execution_count": 59,
   "metadata": {},
   "outputs": [
    {
     "data": {
      "text/plain": [
       "[]"
      ]
     },
     "execution_count": 59,
     "metadata": {},
     "output_type": "execute_result"
    },
    {
     "data": {
      "image/png": "[encoded data removed]",
      "text/plain": [
       "<Figure size 970.82x600 with 1 Axes>"
      ]
     },
     "metadata": {},
     "output_type": "display_data"
    }
   ],
   "source": [
    "plt.errorbar(long_df['p1'], long_df['var_i'], yerr = long_df['del_avg_i'])\n",
    "plt.xlabel('P1')\n",
    "plt.ylabel('Variance Infected')\n",
    "plt.plot()"
   ]
  },
  {
   "attachments": {},
   "cell_type": "markdown",
   "metadata": {},
   "source": [
    "# Vaccinated SIRS"
   ]
  },
  {
   "cell_type": "code",
   "execution_count": 23,
   "metadata": {},
   "outputs": [
    {
     "data": {
      "text/html": [
       "<div>\n",
       "<style scoped>\n",
       "    .dataframe tbody tr th:only-of-type {\n",
       "        vertical-align: middle;\n",
       "    }\n",
       "\n",
       "    .dataframe tbody tr th {\n",
       "        vertical-align: top;\n",
       "    }\n",
       "\n",
       "    .dataframe thead th {\n",
       "        text-align: right;\n",
       "    }\n",
       "</style>\n",
       "<table border=\"1\" class=\"dataframe\">\n",
       "  <thead>\n",
       "    <tr style=\"text-align: right;\">\n",
       "      <th></th>\n",
       "      <th>vacc/N</th>\n",
       "      <th>avg_i</th>\n",
       "    </tr>\n",
       "  </thead>\n",
       "  <tbody>\n",
       "    <tr>\n",
       "      <th>86</th>\n",
       "      <td>0.0</td>\n",
       "      <td>0.254493</td>\n",
       "    </tr>\n",
       "    <tr>\n",
       "      <th>12</th>\n",
       "      <td>10.0</td>\n",
       "      <td>0.252324</td>\n",
       "    </tr>\n",
       "    <tr>\n",
       "      <th>161</th>\n",
       "      <td>20.0</td>\n",
       "      <td>0.249164</td>\n",
       "    </tr>\n",
       "    <tr>\n",
       "      <th>151</th>\n",
       "      <td>30.0</td>\n",
       "      <td>0.249031</td>\n",
       "    </tr>\n",
       "    <tr>\n",
       "      <th>119</th>\n",
       "      <td>40.0</td>\n",
       "      <td>0.246258</td>\n",
       "    </tr>\n",
       "    <tr>\n",
       "      <th>...</th>\n",
       "      <td>...</td>\n",
       "      <td>...</td>\n",
       "    </tr>\n",
       "    <tr>\n",
       "      <th>24</th>\n",
       "      <td>1760.0</td>\n",
       "      <td>0.0</td>\n",
       "    </tr>\n",
       "    <tr>\n",
       "      <th>13</th>\n",
       "      <td>1770.0</td>\n",
       "      <td>0.0</td>\n",
       "    </tr>\n",
       "    <tr>\n",
       "      <th>175</th>\n",
       "      <td>1780.0</td>\n",
       "      <td>0.0</td>\n",
       "    </tr>\n",
       "    <tr>\n",
       "      <th>136</th>\n",
       "      <td>1790.0</td>\n",
       "      <td>0.0</td>\n",
       "    </tr>\n",
       "    <tr>\n",
       "      <th>131</th>\n",
       "      <td>1800.0</td>\n",
       "      <td>0.0</td>\n",
       "    </tr>\n",
       "  </tbody>\n",
       "</table>\n",
       "<p>181 rows × 2 columns</p>\n",
       "</div>"
      ],
      "text/plain": [
       "     vacc/N     avg_i\n",
       "86      0.0  0.254493\n",
       "12     10.0  0.252324\n",
       "161    20.0  0.249164\n",
       "151    30.0  0.249031\n",
       "119    40.0  0.246258\n",
       "..      ...       ...\n",
       "24   1760.0       0.0\n",
       "13   1770.0       0.0\n",
       "175  1780.0       0.0\n",
       "136  1790.0       0.0\n",
       "131  1800.0       0.0\n",
       "\n",
       "[181 rows x 2 columns]"
      ]
     },
     "execution_count": 23,
     "metadata": {},
     "output_type": "execute_result"
    }
   ],
   "source": [
    "files_vacc = os.listdir('output-sirs-vacc/')\n",
    "\n",
    "vacc_df = pd.DataFrame(index = range(len(files_vacc)), columns = ['vacc/N', 'avg_i'])\n",
    "for i, file in enumerate(files_vacc):\n",
    "    vacc_df.iloc[i]['avg_i'] = np.average(np.load(f\"output-sirs-vacc/{file}\")/2500)\n",
    "    vacc_df.iloc[i]['vacc/N'] = float(file.split('.')[0].split('_')[1])\n",
    "\n",
    "vacc_df.sort_values('vacc/N')"
   ]
  },
  {
   "cell_type": "code",
   "execution_count": 28,
   "metadata": {},
   "outputs": [
    {
     "data": {
      "text/plain": [
       "[]"
      ]
     },
     "execution_count": 28,
     "metadata": {},
     "output_type": "execute_result"
    },
    {
     "data": {
      "image/png": "[encoded data removed]",
      "text/plain": [
       "<Figure size 970.82x600 with 1 Axes>"
      ]
     },
     "metadata": {},
     "output_type": "display_data"
    }
   ],
   "source": [
    "plt.scatter(vacc_df['vacc/N'][:100], vacc_df['avg_i'][:100])\n",
    "plt.xlabel('Number Vaccinated')\n",
    "plt.ylabel('Average Infected')\n",
    "plt.plot()"
   ]
  },
  {
   "cell_type": "code",
   "execution_count": null,
   "metadata": {},
   "outputs": [],
   "source": [
    "test = np.load('output-sirs-vacc/infected_700.npy')\n",
    "print(test.shape)\n",
    "plt.plot(np.linspace(0,test.shape[0]-1,test.shape[0]), test)\n",
    "plt.show()"
   ]
  },
  {
   "cell_type": "code",
   "execution_count": null,
   "metadata": {},
   "outputs": [],
   "source": []
  }
 ],
 "metadata": {
  "kernelspec": {
   "display_name": "physics",
   "language": "python",
   "name": "python3"
  },
  "language_info": {
   "codemirror_mode": {
    "name": "ipython",
    "version": 3
   },
   "file_extension": ".py",
   "mimetype": "text/x-python",
   "name": "python",
   "nbconvert_exporter": "python",
   "pygments_lexer": "ipython3",
   "version": "3.10.5"
  },
  "orig_nbformat": 4,
  "vscode": {
   "interpreter": {
    "hash": "f2374a848a3ce9caa9f1ff26bd7d9aa548e450af4dad8cf9c6c0e126e60712f2"
   }
  }
 },
 "nbformat": 4,
 "nbformat_minor": 2
}
